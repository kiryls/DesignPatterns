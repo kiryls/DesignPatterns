{
 "metadata": {
  "language_info": {
   "codemirror_mode": {
    "name": "ipython",
    "version": 3
   },
   "file_extension": ".py",
   "mimetype": "text/x-python",
   "name": "python",
   "nbconvert_exporter": "python",
   "pygments_lexer": "ipython3",
   "version": "3.8.3-final"
  },
  "orig_nbformat": 2,
  "kernelspec": {
   "name": "python_defaultSpec_1598638026584",
   "display_name": "Python 3.8.3 64-bit (conda)"
  }
 },
 "nbformat": 4,
 "nbformat_minor": 2,
 "cells": [
  {
   "cell_type": "code",
   "execution_count": 83,
   "metadata": {},
   "outputs": [],
   "source": [
    "from random import randint\n",
    "from math import sqrt\n",
    "from math import floor\n",
    "\n",
    "WIDTH = 640\n",
    "HEIGHT = 480\n",
    "\n",
    "UP = -1\n",
    "DOWN = 1\n",
    "LEFT = -1\n",
    "RIGHT = 1\n",
    "\n",
    "X = 0\n",
    "Y = 1"
   ]
  },
  {
   "cell_type": "markdown",
   "metadata": {},
   "source": [
    "#### Concrete attack classes"
   ]
  },
  {
   "cell_type": "code",
   "execution_count": 84,
   "metadata": {},
   "outputs": [],
   "source": [
    "class Punch:\n",
    "    attack_range = 5\n",
    "    attack_energy = 10\n",
    "\n",
    "    def attack(other):\n",
    "        print('punched', other.name)\n",
    "        other.pv -= 1\n",
    "        other.stm -= 5"
   ]
  },
  {
   "cell_type": "code",
   "execution_count": 85,
   "metadata": {},
   "outputs": [],
   "source": [
    "class Sword:\n",
    "    attack_range = 15\n",
    "    attack_energy = 20\n",
    "\n",
    "    def attack(other):\n",
    "        print('slashed', other.name)\n",
    "        other.pv -= 3\n",
    "        other.stm -= 7"
   ]
  },
  {
   "cell_type": "code",
   "execution_count": 86,
   "metadata": {},
   "outputs": [],
   "source": [
    "class Fireball:\n",
    "    attack_range = 100\n",
    "    attack_energy = 30\n",
    "\n",
    "    def attack(other):\n",
    "        print('fried', other.name)\n",
    "        other.pv -= 5\n",
    "        other.stm -= 10"
   ]
  },
  {
   "cell_type": "code",
   "execution_count": 87,
   "metadata": {},
   "outputs": [],
   "source": [
    "class Slam:\n",
    "    attack_range = 15\n",
    "    attack_energy = 35\n",
    "\n",
    "    def attack(other):\n",
    "        print('slammed', other.name)\n",
    "        other.pv -= 7\n",
    "        other.stm -= 20"
   ]
  },
  {
   "cell_type": "markdown",
   "metadata": {},
   "source": [
    "#### Default character"
   ]
  },
  {
   "cell_type": "code",
   "execution_count": 88,
   "metadata": {
    "tags": []
   },
   "outputs": [],
   "source": [
    "class PG:\n",
    "    def __init__(self, nome):\n",
    "        self.nome = nome\n",
    "        self.vel = 5\n",
    "        self.pv = 10\n",
    "        self.pv_rate = 1\n",
    "        self.pv_max = 10\n",
    "        self.stm = 100\n",
    "        self.stm_rate = 10\n",
    "        self.stm_max = 100\n",
    "        self.pos = [randint(WIDTH), randint(HEIGHT)]\n",
    "        self.attack_mode = Punch()\n",
    "\n",
    "\n",
    "    def stm_reg(self):\n",
    "        if self.stm < self.stm_max:\n",
    "            if self.stm <= self.stm_max / 2:\n",
    "                self.stm += self.stm_rate / 3\n",
    "            else:\n",
    "                self.stm += self.stm_rate\n",
    "\n",
    "    def pv_reg(self):\n",
    "        if self.pv < self.pv_max:\n",
    "            self.pv += self.pv_rate\n",
    "\n",
    "    # just assume a directional key is pressed\n",
    "    def move(self, key): \n",
    "        if key == UP:\n",
    "            self.pos[Y] += UP * self.vel\n",
    "            if self.pos[Y] < 0: self.pos[Y] = HEIGHT\n",
    "\n",
    "        if key == DOWN:\n",
    "            self.pos[Y] += (UP * self.vel) % HEIGHT\n",
    "\n",
    "        if key == LEFT:\n",
    "            self.pos[X] += LEFT * self.vel\n",
    "            if self.pos[X] < 0: self.pos[X] = WIDTH\n",
    "\n",
    "        if key == RIGHT:\n",
    "            self.pos[X] += (RIGHT * self.vel) % WIDTH\n",
    "\n",
    "    def perform_attack(self, o):\n",
    "        if floor(sqrt((self.pos[X] - o.pos[X])**2 + (self.pos[Y] - o.pos[Y])**2)) <= self.attack_rng and self.stm >= self.attack_mode.attack_energy:\n",
    "            self.attack_mode.attack(o)\n",
    "            self.stm -= self.attack_mode.attack_energy"
   ]
  },
  {
   "cell_type": "markdown",
   "metadata": {},
   "source": [
    "#### Concrete character classes"
   ]
  },
  {
   "cell_type": "code",
   "execution_count": 89,
   "metadata": {},
   "outputs": [],
   "source": [
    "class Mage(PG):\n",
    "    def __init__(self, nome):\n",
    "        self.nome = nome\n",
    "        self.stm -= 20 \n",
    "        self.stm_max -= 20\n",
    "        self.pv -= 3\n",
    "        self.pv_max -= 3\n",
    "        self.vel -= 1\n",
    "        self.attack_mode = Fireball()"
   ]
  },
  {
   "cell_type": "code",
   "execution_count": 90,
   "metadata": {},
   "outputs": [],
   "source": [
    "class Fighter(PG):\n",
    "    def __init__(self, nome):\n",
    "        self.nome = nome\n",
    "        self.stm += 20 \n",
    "        self.stm_max += 20\n",
    "        self.pv += 2\n",
    "        self.pv_max += 2\n",
    "        self.vel += 1\n",
    "        self.attack_mode = Sword()"
   ]
  },
  {
   "cell_type": "code",
   "execution_count": 91,
   "metadata": {},
   "outputs": [],
   "source": [
    "class Savage(PG):\n",
    "    def __init__(self, nome):\n",
    "        self.nome = nome\n",
    "        self.stm += 40 \n",
    "        self.stm_max += 40\n",
    "        self.pv += 5\n",
    "        self.pv_max += 5\n",
    "        self.stm_rate += 5\n",
    "        self.vel -= 2\n",
    "        self.attack_mode = Slam()"
   ]
  }
 ]
}